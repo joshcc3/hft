{
 "cells": [
  {
   "cell_type": "code",
   "execution_count": 62,
   "id": "a49332a5-54e5-4353-81fe-aa4709801e1b",
   "metadata": {},
   "outputs": [],
   "source": [
    "import pandas as pd"
   ]
  },
  {
   "cell_type": "code",
   "execution_count": 63,
   "id": "53c5ba6b-7270-46c1-a4fd-79dd9b8552db",
   "metadata": {},
   "outputs": [],
   "source": [
    "df = pd.read_csv('../data/trades_500M.csv')"
   ]
  },
  {
   "cell_type": "code",
   "execution_count": 64,
   "id": "15b8355e-c7ea-4fbc-a8e4-749461388586",
   "metadata": {},
   "outputs": [],
   "source": [
    "orderLatency = (df['orderInfo.receivedTime'] - df['orderInfo.triggerSubmitTime'])/1000"
   ]
  },
  {
   "cell_type": "code",
   "execution_count": 65,
   "id": "23b2a857-6e4f-4f32-80e4-f8b1da33c6ce",
   "metadata": {},
   "outputs": [
    {
     "data": {
      "text/plain": [
       "<Axes: ylabel='Frequency'>"
      ]
     },
     "execution_count": 65,
     "metadata": {},
     "output_type": "execute_result"
    },
    {
     "data": {
      "image/png": "[encoded data removed]",
      "text/plain": [
       "<Figure size 640x480 with 1 Axes>"
      ]
     },
     "metadata": {},
     "output_type": "display_data"
    }
   ],
   "source": [
    "orderLatency.plot.hist(bins=100)"
   ]
  },
  {
   "cell_type": "code",
   "execution_count": 66,
   "id": "c10a1e88-2f81-464d-a8a8-3bf22efb182b",
   "metadata": {},
   "outputs": [
    {
     "data": {
      "text/plain": [
       "count     57600.000000\n",
       "mean         23.424988\n",
       "std        1083.370703\n",
       "min          11.394000\n",
       "25%          15.694000\n",
       "50%          16.926000\n",
       "75%          19.783000\n",
       "max      260019.362000\n",
       "dtype: float64"
      ]
     },
     "execution_count": 66,
     "metadata": {},
     "output_type": "execute_result"
    }
   ],
   "source": [
    "orderLatency.describe()"
   ]
  },
  {
   "cell_type": "code",
   "execution_count": 58,
   "id": "7cc91988-310d-45c7-913e-8bf19c8b60e2",
   "metadata": {},
   "outputs": [
    {
     "data": {
      "text/plain": [
       "count     57600.000000\n",
       "mean         23.270212\n",
       "std        1001.852860\n",
       "min          11.138000\n",
       "25%          14.111000\n",
       "50%          15.711000\n",
       "75%          20.944000\n",
       "max      240450.733000\n",
       "dtype: float64"
      ]
     },
     "execution_count": 58,
     "metadata": {},
     "output_type": "execute_result"
    }
   ],
   "source": [
    "orderLatency.describe()"
   ]
  },
  {
   "cell_type": "code",
   "execution_count": 61,
   "id": "731b40bb-f9cb-4f65-88e5-f8c77c63a3bf",
   "metadata": {},
   "outputs": [
    {
     "data": {
      "text/plain": [
       "47.698150000000034"
      ]
     },
     "execution_count": 61,
     "metadata": {},
     "output_type": "execute_result"
    }
   ],
   "source": [
    "orderLatency.quantile(0.99)"
   ]
  },
  {
   "cell_type": "code",
   "execution_count": 70,
   "id": "d4ce189e-5c11-4691-9cb2-8b281eeb551c",
   "metadata": {},
   "outputs": [
    {
     "data": {
      "text/plain": [
       "count    57600.000000\n",
       "mean         0.593925\n",
       "std          0.726597\n",
       "min          0.143000\n",
       "25%          0.343000\n",
       "50%          0.517000\n",
       "75%          0.713000\n",
       "max         93.060000\n",
       "dtype: float64"
      ]
     },
     "execution_count": 70,
     "metadata": {},
     "output_type": "execute_result"
    }
   ],
   "source": [
    "((df['orderInfo.orderInfo.submittedTime'] - df['orderInfo.orderInfo.triggerReceivedTime'])/1000).describe()"
   ]
  }
 ],
 "metadata": {
  "kernelspec": {
   "display_name": "Python 3 (ipykernel)",
   "language": "python",
   "name": "python3"
  },
  "language_info": {
   "codemirror_mode": {
    "name": "ipython",
    "version": 3
   },
   "file_extension": ".py",
   "mimetype": "text/x-python",
   "name": "python",
   "nbconvert_exporter": "python",
   "pygments_lexer": "ipython3",
   "version": "3.12.0"
  }
 },
 "nbformat": 4,
 "nbformat_minor": 5
}
