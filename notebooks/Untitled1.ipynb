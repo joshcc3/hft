{
 "cells": [
  {
   "cell_type": "code",
   "execution_count": 99,
   "id": "a49332a5-54e5-4353-81fe-aa4709801e1b",
   "metadata": {},
   "outputs": [],
   "source": [
    "import pandas as pd"
   ]
  },
  {
   "cell_type": "code",
   "execution_count": 109,
   "id": "53c5ba6b-7270-46c1-a4fd-79dd9b8552db",
   "metadata": {},
   "outputs": [
    {
     "data": {
      "text/plain": [
       "count     40.000000\n",
       "mean     183.686025\n",
       "std       39.342941\n",
       "min      138.039000\n",
       "25%      158.412500\n",
       "50%      178.530500\n",
       "75%      199.919750\n",
       "max      373.105000\n",
       "dtype: float64"
      ]
     },
     "execution_count": 109,
     "metadata": {},
     "output_type": "execute_result"
    },
    {
     "data": {
      "image/png": "[encoded data removed]",
      "text/plain": [
       "<Figure size 640x480 with 1 Axes>"
      ]
     },
     "metadata": {},
     "output_type": "display_data"
    }
   ],
   "source": [
    "df = pd.read_csv('../data/trades_500M.csv')\n",
    "orderLatency = (df['orderInfo.receivedTime'] - df['orderInfo.triggerSubmitTime'])/1000\n",
    "orderLatency.plot.hist(bins=100)\n",
    "orderLatency.describe()"
   ]
  },
  {
   "cell_type": "code",
   "execution_count": 93,
   "id": "a47ba739-b6e4-43e2-8549-5982423796de",
   "metadata": {},
   "outputs": [
    {
     "data": {
      "text/plain": [
       "count     20.000000\n",
       "mean     521.103300\n",
       "std      222.442787\n",
       "min      167.501000\n",
       "25%      346.722250\n",
       "50%      523.157500\n",
       "75%      699.765750\n",
       "max      862.626000\n",
       "dtype: float64"
      ]
     },
     "execution_count": 93,
     "metadata": {},
     "output_type": "execute_result"
    }
   ],
   "source": [
    "orderLatency.describe()"
   ]
  },
  {
   "cell_type": "code",
   "execution_count": 98,
   "id": "7cc91988-310d-45c7-913e-8bf19c8b60e2",
   "metadata": {},
   "outputs": [
    {
     "data": {
      "text/plain": [
       "count    20.000000\n",
       "mean     30.486400\n",
       "std      16.163252\n",
       "min      15.344000\n",
       "25%      21.023500\n",
       "50%      26.381500\n",
       "75%      33.123500\n",
       "max      88.506000\n",
       "dtype: float64"
      ]
     },
     "execution_count": 98,
     "metadata": {},
     "output_type": "execute_result"
    }
   ],
   "source": [
    "orderLatency.describe()"
   ]
  },
  {
   "cell_type": "code",
   "execution_count": 103,
   "id": "731b40bb-f9cb-4f65-88e5-f8c77c63a3bf",
   "metadata": {},
   "outputs": [
    {
     "data": {
      "text/plain": [
       "count    20.00000\n",
       "mean     53.61580\n",
       "std      15.08295\n",
       "min      35.84400\n",
       "25%      42.10475\n",
       "50%      50.69700\n",
       "75%      60.12150\n",
       "max      94.71900\n",
       "dtype: float64"
      ]
     },
     "execution_count": 103,
     "metadata": {},
     "output_type": "execute_result"
    }
   ],
   "source": [
    "orderLatency.describe()"
   ]
  },
  {
   "cell_type": "code",
   "execution_count": 70,
   "id": "d4ce189e-5c11-4691-9cb2-8b281eeb551c",
   "metadata": {},
   "outputs": [
    {
     "data": {
      "text/plain": [
       "count    57600.000000\n",
       "mean         0.593925\n",
       "std          0.726597\n",
       "min          0.143000\n",
       "25%          0.343000\n",
       "50%          0.517000\n",
       "75%          0.713000\n",
       "max         93.060000\n",
       "dtype: float64"
      ]
     },
     "execution_count": 70,
     "metadata": {},
     "output_type": "execute_result"
    }
   ],
   "source": [
    "((df['orderInfo.orderInfo.submittedTime'] - df['orderInfo.orderInfo.triggerReceivedTime'])/1000).describe()"
   ]
  },
  {
   "cell_type": "code",
   "execution_count": 78,
   "id": "832ec1df-43d5-486a-bfbb-1623e2b620d3",
   "metadata": {},
   "outputs": [
    {
     "data": {
      "text/plain": [
       "count    725.000000\n",
       "mean       7.605752\n",
       "std        4.019412\n",
       "min        0.706000\n",
       "25%        5.729000\n",
       "50%        6.293000\n",
       "75%        8.572000\n",
       "max       36.804000\n",
       "dtype: float64"
      ]
     },
     "execution_count": 78,
     "metadata": {},
     "output_type": "execute_result"
    }
   ],
   "source": [
    "((df['orderInfo.orderInfo.submittedTime'] - df['orderInfo.orderInfo.triggerReceivedTime'])/1000).describe()"
   ]
  }
 ],
 "metadata": {
  "kernelspec": {
   "display_name": "Python 3 (ipykernel)",
   "language": "python",
   "name": "python3"
  },
  "language_info": {
   "codemirror_mode": {
    "name": "ipython",
    "version": 3
   },
   "file_extension": ".py",
   "mimetype": "text/x-python",
   "name": "python",
   "nbconvert_exporter": "python",
   "pygments_lexer": "ipython3",
   "version": "3.12.0"
  }
 },
 "nbformat": 4,
 "nbformat_minor": 5
}
