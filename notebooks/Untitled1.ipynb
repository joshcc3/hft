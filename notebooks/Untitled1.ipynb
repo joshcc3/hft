{
 "cells": [
  {
   "cell_type": "code",
   "execution_count": 34,
   "id": "a49332a5-54e5-4353-81fe-aa4709801e1b",
   "metadata": {},
   "outputs": [],
   "source": [
    "import pandas as pd"
   ]
  },
  {
   "cell_type": "code",
   "execution_count": 35,
   "id": "53c5ba6b-7270-46c1-a4fd-79dd9b8552db",
   "metadata": {},
   "outputs": [],
   "source": [
    "df = pd.read_csv('../data/trades_500M.csv')"
   ]
  },
  {
   "cell_type": "code",
   "execution_count": 36,
   "id": "15b8355e-c7ea-4fbc-a8e4-749461388586",
   "metadata": {},
   "outputs": [],
   "source": [
    "orderLatency = (df['orderInfo.receivedTime'] - df['orderInfo.triggerSubmitTime'])/1000"
   ]
  },
  {
   "cell_type": "code",
   "execution_count": 37,
   "id": "23b2a857-6e4f-4f32-80e4-f8b1da33c6ce",
   "metadata": {},
   "outputs": [
    {
     "data": {
      "text/plain": [
       "<Axes: ylabel='Frequency'>"
      ]
     },
     "execution_count": 37,
     "metadata": {},
     "output_type": "execute_result"
    },
    {
     "data": {
      "image/png": "[encoded data removed]",
      "text/plain": [
       "<Figure size 640x480 with 1 Axes>"
      ]
     },
     "metadata": {},
     "output_type": "display_data"
    }
   ],
   "source": [
    "orderLatency.plot.hist(bins=100)"
   ]
  },
  {
   "cell_type": "code",
   "execution_count": 14,
   "id": "c10a1e88-2f81-464d-a8a8-3bf22efb182b",
   "metadata": {},
   "outputs": [
    {
     "data": {
      "text/plain": [
       "count    882.000000\n",
       "mean      72.810913\n",
       "std       10.543226\n",
       "min       14.054000\n",
       "25%       65.692500\n",
       "50%       73.423500\n",
       "75%       76.378000\n",
       "max      176.611000\n",
       "dtype: float64"
      ]
     },
     "execution_count": 14,
     "metadata": {},
     "output_type": "execute_result"
    }
   ],
   "source": [
    "orderLatency.describe()"
   ]
  },
  {
   "cell_type": "code",
   "execution_count": 38,
   "id": "7cc91988-310d-45c7-913e-8bf19c8b60e2",
   "metadata": {},
   "outputs": [
    {
     "data": {
      "text/plain": [
       "count    1003.000000\n",
       "mean       69.471889\n",
       "std         9.682725\n",
       "min        17.737000\n",
       "25%        64.187500\n",
       "50%        66.227000\n",
       "75%        73.440000\n",
       "max       201.609000\n",
       "dtype: float64"
      ]
     },
     "execution_count": 38,
     "metadata": {},
     "output_type": "execute_result"
    }
   ],
   "source": [
    "orderLatency.describe()"
   ]
  }
 ],
 "metadata": {
  "kernelspec": {
   "display_name": "Python 3 (ipykernel)",
   "language": "python",
   "name": "python3"
  },
  "language_info": {
   "codemirror_mode": {
    "name": "ipython",
    "version": 3
   },
   "file_extension": ".py",
   "mimetype": "text/x-python",
   "name": "python",
   "nbconvert_exporter": "python",
   "pygments_lexer": "ipython3",
   "version": "3.12.0"
  }
 },
 "nbformat": 4,
 "nbformat_minor": 5
}
